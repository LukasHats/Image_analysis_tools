{
 "cells": [
  {
   "cell_type": "code",
   "execution_count": 1,
   "metadata": {},
   "outputs": [],
   "source": [
    "\n",
    "import json\n",
    "from pathlib import Path \n",
    "import numpy as np\n",
    "import tifffile as tifff\n",
    "import os\n",
    "import os\n",
    "import json\n",
    "import numpy as np\n",
    "from PIL import Image, ImageDraw\n",
    "#from skimage.draw import polygon2mask"
   ]
  },
  {
   "cell_type": "code",
   "execution_count": 2,
   "metadata": {},
   "outputs": [],
   "source": [
    "def polygon2mask(xysize, polygon_outline):\n",
    "    mask = Image.new('L', xysize, 0)\n",
    "    ImageDraw.Draw(mask).polygon(polygon_outline, outline=1, fill=1)\n",
    "    return np.array(mask)\n",
    "xysize=(1000,1000)"
   ]
  },
  {
   "cell_type": "code",
   "execution_count": 3,
   "metadata": {},
   "outputs": [],
   "source": [
    "xysize=(1000,1000)"
   ]
  },
  {
   "cell_type": "code",
   "execution_count": 4,
   "metadata": {},
   "outputs": [],
   "source": [
    "base_path = '/Users/lukashat/Documents/PhD_Schapiro/Projects/Myeloma_Standal/github/myeloma_standal/bone_masks_qupath'"
   ]
  },
  {
   "cell_type": "code",
   "execution_count": 5,
   "metadata": {},
   "outputs": [],
   "source": [
    "for geofile in os.listdir(base_path):\n",
    "    sample = geofile.split('.')[0]\n",
    "    if geofile.endswith('.geojson'):\n",
    "        with open(os.path.join(base_path, geofile)) as f:\n",
    "            data = json.load(f)\n",
    "\n",
    "        mask_combined = np.zeros((xysize[1], xysize[0]), dtype=np.uint8)\n",
    "\n",
    "        for feature in data['features']:\n",
    "            if feature['geometry']['type'] == 'Polygon':\n",
    "                polygon_coords = feature['geometry']['coordinates'][0]\n",
    "                polygon_outline = [(coord[0], coord[1]) for coord in polygon_coords]\n",
    "                mask = polygon2mask(xysize, polygon_outline)\n",
    "                mask_combined = np.logical_or(mask_combined, mask)\n",
    "            elif feature['geometry']['type'] == 'MultiPolygon':\n",
    "                for polygon in feature['geometry']['coordinates']:\n",
    "                    polygon_outline = [(coord[0], coord[1]) for coord in polygon[0]]\n",
    "                    mask = polygon2mask(xysize, polygon_outline)\n",
    "                    mask_combined = np.logical_or(mask_combined, mask)\n",
    "\n",
    "        mask_combined = (mask_combined * 255).astype(np.uint8)\n",
    "        output_file = os.path.join('/Users/lukashat/Documents/PhD_Schapiro/Projects/Myeloma_Standal/QC/bone_masks_qupath', sample + '_bone_masks.tiff')\n",
    "        Image.fromarray(mask_combined).save(output_file)"
   ]
  },
  {
   "cell_type": "code",
   "execution_count": null,
   "metadata": {},
   "outputs": [],
   "source": []
  }
 ],
 "metadata": {
  "kernelspec": {
   "display_name": "steinbock",
   "language": "python",
   "name": "python3"
  },
  "language_info": {
   "codemirror_mode": {
    "name": "ipython",
    "version": 3
   },
   "file_extension": ".py",
   "mimetype": "text/x-python",
   "name": "python",
   "nbconvert_exporter": "python",
   "pygments_lexer": "ipython3",
   "version": "3.11.8"
  }
 },
 "nbformat": 4,
 "nbformat_minor": 2
}
