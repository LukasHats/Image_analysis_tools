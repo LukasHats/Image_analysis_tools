{
 "cells": [
  {
   "cell_type": "code",
   "execution_count": 1,
   "metadata": {},
   "outputs": [],
   "source": [
    "\n",
    "import napari\n",
    "import tifffile\n",
    "import xml.etree.ElementTree as ET"
   ]
  },
  {
   "cell_type": "code",
   "execution_count": 2,
   "metadata": {},
   "outputs": [],
   "source": [
    "# Load your OME-TIFF file\n",
    "file_path = '/Users/lukashat/Downloads/UC_1_CellScape_netFL.ome.tiff'\n",
    "\n",
    "# Initialize variables outside the with block\n",
    "images = []\n",
    "channel_names = []\n",
    "\n",
    "# Read the OME-TIFF file using tifffile\n",
    "with tifffile.TiffFile(file_path) as tif:\n",
    "    # Extract the OME-XML metadata\n",
    "    ome_xml = tif.ome_metadata\n",
    "    # Parse the OME-XML metadata\n",
    "    root = ET.fromstring(ome_xml)\n",
    "    # Namespace map, often needed to correctly parse OME-XML\n",
    "    namespaces = {'ome': 'http://www.openmicroscopy.org/Schemas/OME/2016-06'}\n",
    "    # Find all the Channel elements within the XML structure\n",
    "    channels = root.findall('.//ome:Image/ome:Pixels/ome:Channel', namespaces)\n",
    "    # Extract channel names\n",
    "    channel_names = [channel.get('Name') if channel.get('Name') is not None else f\"Channel {i}\"\n",
    "                     for i, channel in enumerate(channels)]\n",
    "\n",
    "    # Extract image data\n",
    "    # Assuming each time point corresponds to a different channel\n",
    "    images = [tif.asarray(key=i) for i in range(len(channel_names))]"
   ]
  },
  {
   "cell_type": "code",
   "execution_count": 9,
   "metadata": {},
   "outputs": [
    {
     "data": {
      "text/plain": [
       "(35936, 62432)"
      ]
     },
     "execution_count": 9,
     "metadata": {},
     "output_type": "execute_result"
    }
   ],
   "source": [
    "images[0].shape"
   ]
  },
  {
   "cell_type": "code",
   "execution_count": 10,
   "metadata": {},
   "outputs": [],
   "source": [
    "viewer = napari.Viewer()"
   ]
  },
  {
   "cell_type": "code",
   "execution_count": 12,
   "metadata": {},
   "outputs": [],
   "source": [
    "for img, name in zip(images, channel_names):\n",
    "    viewer.add_image([img, img[::2, ::2], img[::4,::4]], name=name)"
   ]
  }
 ],
 "metadata": {
  "kernelspec": {
   "display_name": "steinbock",
   "language": "python",
   "name": "python3"
  },
  "language_info": {
   "codemirror_mode": {
    "name": "ipython",
    "version": 3
   },
   "file_extension": ".py",
   "mimetype": "text/x-python",
   "name": "python",
   "nbconvert_exporter": "python",
   "pygments_lexer": "ipython3",
   "version": "3.11.8"
  }
 },
 "nbformat": 4,
 "nbformat_minor": 2
}
